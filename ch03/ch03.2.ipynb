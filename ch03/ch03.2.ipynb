{
 "cells": [
  {
   "cell_type": "code",
   "execution_count": 1,
   "id": "bd3d89df-d9c3-4d3a-ae24-de716782e7e9",
   "metadata": {
    "tags": []
   },
   "outputs": [],
   "source": [
    "import urllib.request\n",
    "import zipfile\n",
    "\n",
    "url = \"https://storage.googleapis.com/learning-datasets/horse-or-human.zip\""
   ]
  },
  {
   "cell_type": "code",
   "execution_count": 2,
   "id": "ea5e9535-3b29-4edc-b78a-b7a0ecfb3497",
   "metadata": {
    "tags": []
   },
   "outputs": [
    {
     "data": {
      "text/plain": [
       "('horse-or-human.zip', <http.client.HTTPMessage at 0x7f028c6b59a0>)"
      ]
     },
     "execution_count": 2,
     "metadata": {},
     "output_type": "execute_result"
    }
   ],
   "source": [
    "file_name = \"horse-or-human.zip\"\n",
    "training_dir = 'horse-or-human/training'\n",
    "urllib.request.urlretrieve(url, file_name)"
   ]
  },
  {
   "cell_type": "code",
   "execution_count": 3,
   "id": "0cb11263-75da-42e8-8b6b-c08ca4d1d848",
   "metadata": {},
   "outputs": [],
   "source": [
    "zip_ref = zipfile.ZipFile(file_name, 'r')\n",
    "zip_ref.extractall(training_dir)\n",
    "zip_ref.close()"
   ]
  },
  {
   "cell_type": "code",
   "execution_count": 4,
   "id": "62c1881c-9a2b-47c6-9b8a-335b4712a413",
   "metadata": {
    "tags": []
   },
   "outputs": [
    {
     "name": "stdout",
     "output_type": "stream",
     "text": [
      "ch03.1.ipynb\t      horse-or-human.zip  human2.jpeg\n",
      "ch03.2-test.ipynb     horse1.jpeg\t  human3.jpeg\n",
      "ch03.2.ipynb\t      horse2.jpeg\t  validation-horse-or-human.zip\n",
      "horse-human-model.h5  horse3.jpeg\n",
      "horse-or-human\t      human1.jpeg\n"
     ]
    }
   ],
   "source": [
    "!ls"
   ]
  },
  {
   "cell_type": "code",
   "execution_count": 5,
   "id": "be9f082c-82ef-44f5-bb13-663c15d27d9d",
   "metadata": {
    "tags": []
   },
   "outputs": [
    {
     "name": "stderr",
     "output_type": "stream",
     "text": [
      "2023-03-02 13:46:33.456965: I tensorflow/core/platform/cpu_feature_guard.cc:193] This TensorFlow binary is optimized with oneAPI Deep Neural Network Library (oneDNN) to use the following CPU instructions in performance-critical operations:  AVX2 FMA\n",
      "To enable them in other operations, rebuild TensorFlow with the appropriate compiler flags.\n"
     ]
    }
   ],
   "source": [
    "from tensorflow.keras.preprocessing.image import ImageDataGenerator\n",
    "import tensorflow as tf"
   ]
  },
  {
   "cell_type": "code",
   "execution_count": 6,
   "id": "2cd2f411-4a8d-4810-a721-64cf6d9ddb5a",
   "metadata": {
    "tags": []
   },
   "outputs": [],
   "source": [
    "train_datagen = ImageDataGenerator(rescale=1.0/255.0)"
   ]
  },
  {
   "cell_type": "code",
   "execution_count": 7,
   "id": "a2007a04-6748-4378-bdcc-d9c4e2ac4528",
   "metadata": {
    "tags": []
   },
   "outputs": [
    {
     "name": "stdout",
     "output_type": "stream",
     "text": [
      "Found 1027 images belonging to 2 classes.\n"
     ]
    }
   ],
   "source": [
    "train_generator = train_datagen.flow_from_directory(\n",
    "    training_dir,\n",
    "    target_size=(300,300),\n",
    "    class_mode='binary'\n",
    ")\n"
   ]
  },
  {
   "cell_type": "code",
   "execution_count": 8,
   "id": "57be36ed-6972-4c5e-8fe6-d50204fa000e",
   "metadata": {
    "tags": []
   },
   "outputs": [
    {
     "name": "stderr",
     "output_type": "stream",
     "text": [
      "2023-03-02 13:46:35.216057: I tensorflow/compiler/xla/stream_executor/cuda/cuda_gpu_executor.cc:981] successful NUMA node read from SysFS had negative value (-1), but there must be at least one NUMA node, so returning NUMA node zero\n",
      "2023-03-02 13:46:35.222188: I tensorflow/compiler/xla/stream_executor/cuda/cuda_gpu_executor.cc:981] successful NUMA node read from SysFS had negative value (-1), but there must be at least one NUMA node, so returning NUMA node zero\n",
      "2023-03-02 13:46:35.222275: I tensorflow/compiler/xla/stream_executor/cuda/cuda_gpu_executor.cc:981] successful NUMA node read from SysFS had negative value (-1), but there must be at least one NUMA node, so returning NUMA node zero\n",
      "2023-03-02 13:46:35.222968: I tensorflow/core/platform/cpu_feature_guard.cc:193] This TensorFlow binary is optimized with oneAPI Deep Neural Network Library (oneDNN) to use the following CPU instructions in performance-critical operations:  AVX2 FMA\n",
      "To enable them in other operations, rebuild TensorFlow with the appropriate compiler flags.\n",
      "2023-03-02 13:46:35.223493: I tensorflow/compiler/xla/stream_executor/cuda/cuda_gpu_executor.cc:981] successful NUMA node read from SysFS had negative value (-1), but there must be at least one NUMA node, so returning NUMA node zero\n",
      "2023-03-02 13:46:35.223578: I tensorflow/compiler/xla/stream_executor/cuda/cuda_gpu_executor.cc:981] successful NUMA node read from SysFS had negative value (-1), but there must be at least one NUMA node, so returning NUMA node zero\n",
      "2023-03-02 13:46:35.223652: I tensorflow/compiler/xla/stream_executor/cuda/cuda_gpu_executor.cc:981] successful NUMA node read from SysFS had negative value (-1), but there must be at least one NUMA node, so returning NUMA node zero\n",
      "2023-03-02 13:46:35.720851: I tensorflow/compiler/xla/stream_executor/cuda/cuda_gpu_executor.cc:981] successful NUMA node read from SysFS had negative value (-1), but there must be at least one NUMA node, so returning NUMA node zero\n",
      "2023-03-02 13:46:35.721121: I tensorflow/compiler/xla/stream_executor/cuda/cuda_gpu_executor.cc:981] successful NUMA node read from SysFS had negative value (-1), but there must be at least one NUMA node, so returning NUMA node zero\n",
      "2023-03-02 13:46:35.721206: I tensorflow/compiler/xla/stream_executor/cuda/cuda_gpu_executor.cc:981] successful NUMA node read from SysFS had negative value (-1), but there must be at least one NUMA node, so returning NUMA node zero\n",
      "2023-03-02 13:46:35.721388: I tensorflow/core/common_runtime/gpu/gpu_device.cc:1613] Created device /job:localhost/replica:0/task:0/device:GPU:0 with 9735 MB memory:  -> device: 0, name: NVIDIA GeForce RTX 3060, pci bus id: 0000:01:00.0, compute capability: 8.6\n"
     ]
    }
   ],
   "source": [
    "model = tf.keras.models.Sequential([\n",
    "    tf.keras.layers.Conv2D(16, (3,3), activation='relu', input_shape=(300,300,3)),\n",
    "    tf.keras.layers.MaxPooling2D(2,2),\n",
    "    tf.keras.layers.Conv2D(32, (3,3), activation='relu'),\n",
    "    tf.keras.layers.MaxPooling2D(2,2),\n",
    "    tf.keras.layers.Conv2D(64, (3,3), activation='relu'),\n",
    "    tf.keras.layers.MaxPooling2D(2,2),\n",
    "    tf.keras.layers.Conv2D(64, (3,3), activation='relu'),\n",
    "    tf.keras.layers.MaxPooling2D(2,2),\n",
    "    tf.keras.layers.Conv2D(64, (3,3), activation='relu'),\n",
    "    tf.keras.layers.MaxPooling2D(2,2),\n",
    "    tf.keras.layers.Flatten(),\n",
    "    tf.keras.layers.Dense(512, activation='relu'),\n",
    "    tf.keras.layers.Dense(1, activation='sigmoid')\n",
    "])"
   ]
  },
  {
   "cell_type": "code",
   "execution_count": 9,
   "id": "5a637247-4678-47f5-8a5f-ebe90378cb89",
   "metadata": {
    "tags": []
   },
   "outputs": [],
   "source": [
    "model.compile(loss='binary_crossentropy', optimizer = tf.keras.optimizers.RMSprop(learning_rate=0.001),\n",
    "              metrics = ['accuracy'])"
   ]
  },
  {
   "cell_type": "code",
   "execution_count": 10,
   "id": "1dc2de50-5d97-45a9-86d3-0a50fa79a07a",
   "metadata": {
    "tags": []
   },
   "outputs": [],
   "source": [
    "url = \"https://storage.googleapis.com/learning-datasets/validation-horse-or-human.zip\"\n",
    "file_name = \"validation-horse-or-human.zip\"\n",
    "validation_dir = 'horse-or-human/validation/'\n",
    "urllib.request.urlretrieve(url, file_name)\n",
    "\n",
    "zip_ref = zipfile.ZipFile(file_name, 'r')\n",
    "zip_ref.extractall(validation_dir)\n",
    "zip_ref.close()\n",
    "\n"
   ]
  },
  {
   "cell_type": "code",
   "execution_count": 11,
   "id": "8d15049f-5ad3-4c0a-86fc-79e0a58eb0aa",
   "metadata": {
    "tags": []
   },
   "outputs": [],
   "source": [
    "validation_datagen = tf.keras.preprocessing.image.ImageDataGenerator(rescale=1.0/255)"
   ]
  },
  {
   "cell_type": "code",
   "execution_count": 12,
   "id": "da0d4ea3-6224-4dc6-bb71-5be088571b94",
   "metadata": {
    "tags": []
   },
   "outputs": [
    {
     "name": "stdout",
     "output_type": "stream",
     "text": [
      "Found 256 images belonging to 2 classes.\n"
     ]
    }
   ],
   "source": [
    "validation_generator = validation_datagen.flow_from_directory(\n",
    "    validation_dir,\n",
    "    target_size=(300,300),\n",
    "    class_mode='binary'\n",
    ")"
   ]
  },
  {
   "cell_type": "code",
   "execution_count": null,
   "id": "606a8dfb-1944-40a6-a740-25bb65afceb4",
   "metadata": {},
   "outputs": [],
   "source": []
  },
  {
   "cell_type": "code",
   "execution_count": null,
   "id": "0fecdc00-5ff0-4229-bd8e-dbc68a595e07",
   "metadata": {},
   "outputs": [],
   "source": []
  },
  {
   "cell_type": "code",
   "execution_count": 13,
   "id": "a1a2dcf3-2d4a-43d6-93b2-eb80d9d21523",
   "metadata": {
    "tags": []
   },
   "outputs": [
    {
     "name": "stdout",
     "output_type": "stream",
     "text": [
      "Epoch 1/50\n"
     ]
    },
    {
     "name": "stderr",
     "output_type": "stream",
     "text": [
      "2023-03-02 13:46:58.509501: I tensorflow/compiler/xla/stream_executor/cuda/cuda_dnn.cc:428] Loaded cuDNN version 8100\n",
      "2023-03-02 13:47:00.049106: I tensorflow/compiler/xla/stream_executor/cuda/cuda_blas.cc:630] TensorFloat-32 will be used for the matrix multiplication. This will only be logged once.\n",
      "2023-03-02 13:47:00.063854: I tensorflow/compiler/xla/service/service.cc:173] XLA service 0x7efc7c3f7770 initialized for platform CUDA (this does not guarantee that XLA will be used). Devices:\n",
      "2023-03-02 13:47:00.063870: I tensorflow/compiler/xla/service/service.cc:181]   StreamExecutor device (0): NVIDIA GeForce RTX 3060, Compute Capability 8.6\n",
      "2023-03-02 13:47:00.072322: I tensorflow/compiler/mlir/tensorflow/utils/dump_mlir_util.cc:268] disabling MLIR crash reproducer, set env var `MLIR_CRASH_REPRODUCER_DIRECTORY` to enable.\n",
      "2023-03-02 13:47:00.183268: I tensorflow/compiler/jit/xla_compilation_cache.cc:477] Compiled cluster using XLA!  This line is logged at most once for the lifetime of the process.\n"
     ]
    },
    {
     "name": "stdout",
     "output_type": "stream",
     "text": [
      "33/33 [==============================] - 9s 147ms/step - loss: 0.7225 - accuracy: 0.5648 - val_loss: 0.6426 - val_accuracy: 0.6445\n",
      "Epoch 2/50\n",
      "33/33 [==============================] - 5s 140ms/step - loss: 0.4384 - accuracy: 0.8325 - val_loss: 0.7403 - val_accuracy: 0.8594\n",
      "Epoch 3/50\n",
      "33/33 [==============================] - 5s 141ms/step - loss: 0.2348 - accuracy: 0.9094 - val_loss: 1.9232 - val_accuracy: 0.7617\n",
      "Epoch 4/50\n",
      "33/33 [==============================] - 5s 141ms/step - loss: 0.1492 - accuracy: 0.9426 - val_loss: 1.3773 - val_accuracy: 0.8438\n",
      "Epoch 5/50\n",
      "33/33 [==============================] - 5s 141ms/step - loss: 0.4230 - accuracy: 0.9270 - val_loss: 1.4103 - val_accuracy: 0.8125\n",
      "Epoch 6/50\n",
      "33/33 [==============================] - 5s 141ms/step - loss: 0.1099 - accuracy: 0.9708 - val_loss: 1.4213 - val_accuracy: 0.7500\n",
      "Epoch 7/50\n",
      "33/33 [==============================] - 5s 145ms/step - loss: 0.0595 - accuracy: 0.9834 - val_loss: 1.5090 - val_accuracy: 0.8672\n",
      "Epoch 8/50\n",
      "33/33 [==============================] - 5s 144ms/step - loss: 0.0702 - accuracy: 0.9805 - val_loss: 1.9650 - val_accuracy: 0.8203\n",
      "Epoch 9/50\n",
      "33/33 [==============================] - 5s 139ms/step - loss: 0.0592 - accuracy: 0.9815 - val_loss: 1.3344 - val_accuracy: 0.8594\n",
      "Epoch 10/50\n",
      "33/33 [==============================] - 5s 142ms/step - loss: 0.0039 - accuracy: 0.9990 - val_loss: 2.5179 - val_accuracy: 0.8477\n",
      "Epoch 11/50\n",
      "33/33 [==============================] - 5s 139ms/step - loss: 0.1700 - accuracy: 0.9698 - val_loss: 1.6271 - val_accuracy: 0.8633\n",
      "Epoch 12/50\n",
      "33/33 [==============================] - 5s 139ms/step - loss: 0.0047 - accuracy: 0.9981 - val_loss: 1.7864 - val_accuracy: 0.8516\n",
      "Epoch 13/50\n",
      "33/33 [==============================] - 5s 139ms/step - loss: 4.0701e-04 - accuracy: 1.0000 - val_loss: 2.2360 - val_accuracy: 0.8516\n",
      "Epoch 14/50\n",
      "33/33 [==============================] - 5s 141ms/step - loss: 1.4234e-04 - accuracy: 1.0000 - val_loss: 2.8040 - val_accuracy: 0.8359\n",
      "Epoch 15/50\n",
      "33/33 [==============================] - 5s 141ms/step - loss: 4.0937e-05 - accuracy: 1.0000 - val_loss: 3.4804 - val_accuracy: 0.8281\n",
      "Epoch 16/50\n",
      "33/33 [==============================] - 5s 139ms/step - loss: 1.3826e-05 - accuracy: 1.0000 - val_loss: 3.8038 - val_accuracy: 0.8203\n",
      "Epoch 17/50\n",
      "33/33 [==============================] - 5s 139ms/step - loss: 7.1371e-06 - accuracy: 1.0000 - val_loss: 3.5164 - val_accuracy: 0.8438\n",
      "Epoch 18/50\n",
      "33/33 [==============================] - 5s 138ms/step - loss: 4.7251e-06 - accuracy: 1.0000 - val_loss: 3.6843 - val_accuracy: 0.8320\n",
      "Epoch 19/50\n",
      "33/33 [==============================] - 5s 139ms/step - loss: 4.2787e-06 - accuracy: 1.0000 - val_loss: 3.8760 - val_accuracy: 0.8359\n",
      "Epoch 20/50\n",
      "33/33 [==============================] - 5s 139ms/step - loss: 2.3057e-06 - accuracy: 1.0000 - val_loss: 3.9860 - val_accuracy: 0.8320\n",
      "Epoch 21/50\n",
      "33/33 [==============================] - 5s 140ms/step - loss: 2.0677e-06 - accuracy: 1.0000 - val_loss: 4.2453 - val_accuracy: 0.8281\n",
      "Epoch 22/50\n",
      "33/33 [==============================] - 5s 142ms/step - loss: 1.8311e-06 - accuracy: 1.0000 - val_loss: 4.1669 - val_accuracy: 0.8320\n",
      "Epoch 23/50\n",
      "33/33 [==============================] - 5s 141ms/step - loss: 1.1447e-06 - accuracy: 1.0000 - val_loss: 4.2512 - val_accuracy: 0.8281\n",
      "Epoch 24/50\n",
      "33/33 [==============================] - 5s 141ms/step - loss: 1.1023e-06 - accuracy: 1.0000 - val_loss: 4.2255 - val_accuracy: 0.8398\n",
      "Epoch 25/50\n",
      "33/33 [==============================] - 5s 139ms/step - loss: 9.0377e-07 - accuracy: 1.0000 - val_loss: 4.2989 - val_accuracy: 0.8320\n",
      "Epoch 26/50\n",
      "33/33 [==============================] - 5s 139ms/step - loss: 8.3248e-07 - accuracy: 1.0000 - val_loss: 4.3654 - val_accuracy: 0.8320\n",
      "Epoch 27/50\n",
      "33/33 [==============================] - 5s 140ms/step - loss: 7.0742e-07 - accuracy: 1.0000 - val_loss: 4.3371 - val_accuracy: 0.8281\n",
      "Epoch 28/50\n",
      "33/33 [==============================] - 5s 139ms/step - loss: 7.0906e-07 - accuracy: 1.0000 - val_loss: 4.3953 - val_accuracy: 0.8281\n",
      "Epoch 29/50\n",
      "33/33 [==============================] - 5s 139ms/step - loss: 6.4050e-07 - accuracy: 1.0000 - val_loss: 4.4461 - val_accuracy: 0.8281\n",
      "Epoch 30/50\n",
      "33/33 [==============================] - 5s 139ms/step - loss: 5.8996e-07 - accuracy: 1.0000 - val_loss: 4.5025 - val_accuracy: 0.8281\n",
      "Epoch 31/50\n",
      "33/33 [==============================] - 5s 143ms/step - loss: 5.4535e-07 - accuracy: 1.0000 - val_loss: 4.5383 - val_accuracy: 0.8242\n",
      "Epoch 32/50\n",
      "33/33 [==============================] - 5s 140ms/step - loss: 5.3272e-07 - accuracy: 1.0000 - val_loss: 4.5851 - val_accuracy: 0.8242\n",
      "Epoch 33/50\n",
      "33/33 [==============================] - 5s 139ms/step - loss: 4.9214e-07 - accuracy: 1.0000 - val_loss: 4.6104 - val_accuracy: 0.8281\n",
      "Epoch 34/50\n",
      "33/33 [==============================] - 5s 140ms/step - loss: 4.5312e-07 - accuracy: 1.0000 - val_loss: 4.6228 - val_accuracy: 0.8242\n",
      "Epoch 35/50\n",
      "33/33 [==============================] - 5s 139ms/step - loss: 4.6526e-07 - accuracy: 1.0000 - val_loss: 4.6345 - val_accuracy: 0.8242\n",
      "Epoch 36/50\n",
      "33/33 [==============================] - 5s 140ms/step - loss: 4.4594e-07 - accuracy: 1.0000 - val_loss: 4.7035 - val_accuracy: 0.8281\n",
      "Epoch 37/50\n",
      "33/33 [==============================] - 5s 142ms/step - loss: 4.2289e-07 - accuracy: 1.0000 - val_loss: 4.6747 - val_accuracy: 0.8242\n",
      "Epoch 38/50\n",
      "33/33 [==============================] - 5s 140ms/step - loss: 3.8789e-07 - accuracy: 1.0000 - val_loss: 4.6985 - val_accuracy: 0.8242\n",
      "Epoch 39/50\n",
      "33/33 [==============================] - 5s 139ms/step - loss: 3.7337e-07 - accuracy: 1.0000 - val_loss: 4.7070 - val_accuracy: 0.8242\n",
      "Epoch 40/50\n",
      "33/33 [==============================] - 5s 139ms/step - loss: 3.5556e-07 - accuracy: 1.0000 - val_loss: 4.7312 - val_accuracy: 0.8242\n",
      "Epoch 41/50\n",
      "33/33 [==============================] - 5s 140ms/step - loss: 3.4878e-07 - accuracy: 1.0000 - val_loss: 4.7305 - val_accuracy: 0.8242\n",
      "Epoch 42/50\n",
      "33/33 [==============================] - 5s 140ms/step - loss: 3.3040e-07 - accuracy: 1.0000 - val_loss: 4.7410 - val_accuracy: 0.8242\n",
      "Epoch 43/50\n",
      "33/33 [==============================] - 5s 143ms/step - loss: 3.1854e-07 - accuracy: 1.0000 - val_loss: 4.7662 - val_accuracy: 0.8242\n",
      "Epoch 44/50\n",
      "33/33 [==============================] - 5s 139ms/step - loss: 3.0027e-07 - accuracy: 1.0000 - val_loss: 4.7752 - val_accuracy: 0.8242\n",
      "Epoch 45/50\n",
      "33/33 [==============================] - 5s 140ms/step - loss: 2.9253e-07 - accuracy: 1.0000 - val_loss: 4.7844 - val_accuracy: 0.8242\n",
      "Epoch 46/50\n",
      "33/33 [==============================] - 5s 141ms/step - loss: 2.8376e-07 - accuracy: 1.0000 - val_loss: 4.7854 - val_accuracy: 0.8242\n",
      "Epoch 47/50\n",
      "33/33 [==============================] - 5s 140ms/step - loss: 2.8244e-07 - accuracy: 1.0000 - val_loss: 4.8192 - val_accuracy: 0.8242\n",
      "Epoch 48/50\n",
      "33/33 [==============================] - 5s 139ms/step - loss: 2.6522e-07 - accuracy: 1.0000 - val_loss: 4.8318 - val_accuracy: 0.8242\n",
      "Epoch 49/50\n",
      "33/33 [==============================] - 5s 139ms/step - loss: 2.6361e-07 - accuracy: 1.0000 - val_loss: 4.8353 - val_accuracy: 0.8242\n",
      "Epoch 50/50\n",
      "33/33 [==============================] - 5s 139ms/step - loss: 2.5987e-07 - accuracy: 1.0000 - val_loss: 4.8339 - val_accuracy: 0.8242\n"
     ]
    }
   ],
   "source": [
    "history = model.fit(train_generator, epochs=50, validation_data=validation_generator)"
   ]
  },
  {
   "cell_type": "code",
   "execution_count": 14,
   "id": "e0921d37-7418-408b-b964-1583a8551854",
   "metadata": {
    "tags": []
   },
   "outputs": [],
   "source": [
    "model.save('horse-human-model.h5')"
   ]
  },
  {
   "cell_type": "code",
   "execution_count": 15,
   "id": "8a533138-63b2-406a-9116-814766849b57",
   "metadata": {
    "tags": []
   },
   "outputs": [
    {
     "name": "stdout",
     "output_type": "stream",
     "text": [
      "Model: \"sequential\"\n",
      "_________________________________________________________________\n",
      " Layer (type)                Output Shape              Param #   \n",
      "=================================================================\n",
      " conv2d (Conv2D)             (None, 298, 298, 16)      448       \n",
      "                                                                 \n",
      " max_pooling2d (MaxPooling2D  (None, 149, 149, 16)     0         \n",
      " )                                                               \n",
      "                                                                 \n",
      " conv2d_1 (Conv2D)           (None, 147, 147, 32)      4640      \n",
      "                                                                 \n",
      " max_pooling2d_1 (MaxPooling  (None, 73, 73, 32)       0         \n",
      " 2D)                                                             \n",
      "                                                                 \n",
      " conv2d_2 (Conv2D)           (None, 71, 71, 64)        18496     \n",
      "                                                                 \n",
      " max_pooling2d_2 (MaxPooling  (None, 35, 35, 64)       0         \n",
      " 2D)                                                             \n",
      "                                                                 \n",
      " conv2d_3 (Conv2D)           (None, 33, 33, 64)        36928     \n",
      "                                                                 \n",
      " max_pooling2d_3 (MaxPooling  (None, 16, 16, 64)       0         \n",
      " 2D)                                                             \n",
      "                                                                 \n",
      " conv2d_4 (Conv2D)           (None, 14, 14, 64)        36928     \n",
      "                                                                 \n",
      " max_pooling2d_4 (MaxPooling  (None, 7, 7, 64)         0         \n",
      " 2D)                                                             \n",
      "                                                                 \n",
      " flatten (Flatten)           (None, 3136)              0         \n",
      "                                                                 \n",
      " dense (Dense)               (None, 512)               1606144   \n",
      "                                                                 \n",
      " dense_1 (Dense)             (None, 1)                 513       \n",
      "                                                                 \n",
      "=================================================================\n",
      "Total params: 1,704,097\n",
      "Trainable params: 1,704,097\n",
      "Non-trainable params: 0\n",
      "_________________________________________________________________\n"
     ]
    }
   ],
   "source": [
    "# load model\n",
    "from  tensorflow.keras.models import load_model\n",
    "savedModel=load_model('horse-human-model.h5')\n",
    "savedModel.summary()"
   ]
  },
  {
   "cell_type": "code",
   "execution_count": 16,
   "id": "0a7a8429-9609-48a3-b113-6f72e1a4eb29",
   "metadata": {},
   "outputs": [
    {
     "data": {
      "text/plain": [
       "<keras.engine.sequential.Sequential at 0x7f5a2c168400>"
      ]
     },
     "execution_count": 16,
     "metadata": {},
     "output_type": "execute_result"
    }
   ],
   "source": [
    "savedModel"
   ]
  },
  {
   "cell_type": "code",
   "execution_count": null,
   "id": "4a73375e-bc30-4939-bfe7-a085bac30a14",
   "metadata": {},
   "outputs": [],
   "source": []
  },
  {
   "cell_type": "code",
   "execution_count": null,
   "id": "27c3c54d-9db0-4c35-9725-a6a7c9bb6bc2",
   "metadata": {},
   "outputs": [],
   "source": []
  }
 ],
 "metadata": {
  "kernelspec": {
   "display_name": "Python 3 (ipykernel)",
   "language": "python",
   "name": "python3"
  },
  "language_info": {
   "codemirror_mode": {
    "name": "ipython",
    "version": 3
   },
   "file_extension": ".py",
   "mimetype": "text/x-python",
   "name": "python",
   "nbconvert_exporter": "python",
   "pygments_lexer": "ipython3",
   "version": "3.8.10"
  }
 },
 "nbformat": 4,
 "nbformat_minor": 5
}
