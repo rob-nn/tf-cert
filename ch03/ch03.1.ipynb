{
 "cells": [
  {
   "cell_type": "code",
   "execution_count": 1,
   "id": "181f95be-1267-4517-941c-edae543e49c7",
   "metadata": {
    "tags": []
   },
   "outputs": [
    {
     "name": "stderr",
     "output_type": "stream",
     "text": [
      "2023-02-13 20:35:04.915947: I tensorflow/core/platform/cpu_feature_guard.cc:193] This TensorFlow binary is optimized with oneAPI Deep Neural Network Library (oneDNN) to use the following CPU instructions in performance-critical operations:  AVX2 FMA\n",
      "To enable them in other operations, rebuild TensorFlow with the appropriate compiler flags.\n"
     ]
    }
   ],
   "source": [
    "import tensorflow as tf\n",
    "data = tf.keras.datasets.fashion_mnist"
   ]
  },
  {
   "cell_type": "code",
   "execution_count": 2,
   "id": "acce1de9-39d6-4d98-99b1-75e8632cb624",
   "metadata": {
    "tags": []
   },
   "outputs": [],
   "source": [
    "(training_images, training_labels), (test_images, test_labesl) =data.load_data()"
   ]
  },
  {
   "cell_type": "code",
   "execution_count": 3,
   "id": "4badb050-21d6-42dd-86d7-0cc363528198",
   "metadata": {
    "tags": []
   },
   "outputs": [],
   "source": [
    "training_images = training_images.reshape(60000,28,28,1)\n",
    "training_images = training_images / 255\n",
    "test_images = test_images.reshape(10000,28,28,1)\n",
    "test_images = test_images / 255"
   ]
  },
  {
   "cell_type": "code",
   "execution_count": 4,
   "id": "ac07a95e-2797-42c1-89ad-75bdc8ff8296",
   "metadata": {
    "tags": []
   },
   "outputs": [
    {
     "name": "stderr",
     "output_type": "stream",
     "text": [
      "2023-02-13 20:35:08.875354: I tensorflow/compiler/xla/stream_executor/cuda/cuda_gpu_executor.cc:981] successful NUMA node read from SysFS had negative value (-1), but there must be at least one NUMA node, so returning NUMA node zero\n",
      "2023-02-13 20:35:08.895673: I tensorflow/compiler/xla/stream_executor/cuda/cuda_gpu_executor.cc:981] successful NUMA node read from SysFS had negative value (-1), but there must be at least one NUMA node, so returning NUMA node zero\n",
      "2023-02-13 20:35:08.895884: I tensorflow/compiler/xla/stream_executor/cuda/cuda_gpu_executor.cc:981] successful NUMA node read from SysFS had negative value (-1), but there must be at least one NUMA node, so returning NUMA node zero\n",
      "2023-02-13 20:35:08.897144: I tensorflow/core/platform/cpu_feature_guard.cc:193] This TensorFlow binary is optimized with oneAPI Deep Neural Network Library (oneDNN) to use the following CPU instructions in performance-critical operations:  AVX2 FMA\n",
      "To enable them in other operations, rebuild TensorFlow with the appropriate compiler flags.\n",
      "2023-02-13 20:35:08.897890: I tensorflow/compiler/xla/stream_executor/cuda/cuda_gpu_executor.cc:981] successful NUMA node read from SysFS had negative value (-1), but there must be at least one NUMA node, so returning NUMA node zero\n",
      "2023-02-13 20:35:08.898108: I tensorflow/compiler/xla/stream_executor/cuda/cuda_gpu_executor.cc:981] successful NUMA node read from SysFS had negative value (-1), but there must be at least one NUMA node, so returning NUMA node zero\n",
      "2023-02-13 20:35:08.898273: I tensorflow/compiler/xla/stream_executor/cuda/cuda_gpu_executor.cc:981] successful NUMA node read from SysFS had negative value (-1), but there must be at least one NUMA node, so returning NUMA node zero\n",
      "2023-02-13 20:35:09.988263: I tensorflow/compiler/xla/stream_executor/cuda/cuda_gpu_executor.cc:981] successful NUMA node read from SysFS had negative value (-1), but there must be at least one NUMA node, so returning NUMA node zero\n",
      "2023-02-13 20:35:09.989065: I tensorflow/compiler/xla/stream_executor/cuda/cuda_gpu_executor.cc:981] successful NUMA node read from SysFS had negative value (-1), but there must be at least one NUMA node, so returning NUMA node zero\n",
      "2023-02-13 20:35:09.989251: I tensorflow/compiler/xla/stream_executor/cuda/cuda_gpu_executor.cc:981] successful NUMA node read from SysFS had negative value (-1), but there must be at least one NUMA node, so returning NUMA node zero\n",
      "2023-02-13 20:35:09.989802: I tensorflow/core/common_runtime/gpu/gpu_device.cc:1613] Created device /job:localhost/replica:0/task:0/device:GPU:0 with 1610 MB memory:  -> device: 0, name: NVIDIA GeForce 940MX, pci bus id: 0000:01:00.0, compute capability: 5.0\n"
     ]
    }
   ],
   "source": [
    "model = tf.keras.models.Sequential([\n",
    "    tf.keras.layers.Conv2D(64, (3,3), activation='relu', input_shape=(28, 28, 1)),\n",
    "    tf.keras.layers.MaxPooling2D(2,2),\n",
    "    tf.keras.layers.Conv2D(64, (3,3), activation='relu'),\n",
    "    tf.keras.layers.MaxPooling2D(2,2),\n",
    "    tf.keras.layers.Flatten(),\n",
    "    tf.keras.layers.Dense(128, activation=tf.nn.relu),\n",
    "    tf.keras.layers.Dense(10, activation=tf.nn.softmax)\n",
    "])"
   ]
  },
  {
   "cell_type": "code",
   "execution_count": 5,
   "id": "f95b7c63-dd08-4eb1-ad84-b1e7a5dedd85",
   "metadata": {
    "tags": []
   },
   "outputs": [],
   "source": [
    "model.compile(optimizer='adam',\n",
    "              loss='sparse_categorical_crossentropy',\n",
    "              metrics=['accuracy'])"
   ]
  },
  {
   "cell_type": "code",
   "execution_count": 6,
   "id": "3e6bd9ce-2b6a-4c0d-bd7e-ba2229eff915",
   "metadata": {
    "tags": []
   },
   "outputs": [
    {
     "name": "stdout",
     "output_type": "stream",
     "text": [
      "Epoch 1/50\n"
     ]
    },
    {
     "name": "stderr",
     "output_type": "stream",
     "text": [
      "2023-02-13 20:35:12.060777: I tensorflow/compiler/xla/stream_executor/cuda/cuda_dnn.cc:428] Loaded cuDNN version 8100\n",
      "2023-02-13 20:35:14.145500: I tensorflow/compiler/xla/service/service.cc:173] XLA service 0x7fe9e41e6480 initialized for platform CUDA (this does not guarantee that XLA will be used). Devices:\n",
      "2023-02-13 20:35:14.145531: I tensorflow/compiler/xla/service/service.cc:181]   StreamExecutor device (0): NVIDIA GeForce 940MX, Compute Capability 5.0\n",
      "2023-02-13 20:35:14.177837: I tensorflow/compiler/mlir/tensorflow/utils/dump_mlir_util.cc:268] disabling MLIR crash reproducer, set env var `MLIR_CRASH_REPRODUCER_DIRECTORY` to enable.\n",
      "2023-02-13 20:35:14.485152: I tensorflow/compiler/jit/xla_compilation_cache.cc:477] Compiled cluster using XLA!  This line is logged at most once for the lifetime of the process.\n"
     ]
    },
    {
     "name": "stdout",
     "output_type": "stream",
     "text": [
      "1875/1875 [==============================] - 19s 7ms/step - loss: 0.4366 - accuracy: 0.8432\n",
      "Epoch 2/50\n",
      "1875/1875 [==============================] - 14s 7ms/step - loss: 0.2901 - accuracy: 0.8928\n",
      "Epoch 3/50\n",
      "1875/1875 [==============================] - 14s 7ms/step - loss: 0.2433 - accuracy: 0.9105\n",
      "Epoch 4/50\n",
      "1875/1875 [==============================] - 14s 7ms/step - loss: 0.2113 - accuracy: 0.9208\n",
      "Epoch 5/50\n",
      "1875/1875 [==============================] - 14s 7ms/step - loss: 0.1865 - accuracy: 0.9304\n",
      "Epoch 6/50\n",
      "1875/1875 [==============================] - 14s 7ms/step - loss: 0.1634 - accuracy: 0.9384\n",
      "Epoch 7/50\n",
      "1875/1875 [==============================] - 14s 7ms/step - loss: 0.1430 - accuracy: 0.9464\n",
      "Epoch 8/50\n",
      "1875/1875 [==============================] - 14s 7ms/step - loss: 0.1255 - accuracy: 0.9534\n",
      "Epoch 9/50\n",
      "1875/1875 [==============================] - 14s 7ms/step - loss: 0.1092 - accuracy: 0.9586\n",
      "Epoch 10/50\n",
      "1875/1875 [==============================] - 14s 7ms/step - loss: 0.0952 - accuracy: 0.9642\n",
      "Epoch 11/50\n",
      "1875/1875 [==============================] - 14s 7ms/step - loss: 0.0856 - accuracy: 0.9683\n",
      "Epoch 12/50\n",
      "1875/1875 [==============================] - 14s 7ms/step - loss: 0.0752 - accuracy: 0.9711\n",
      "Epoch 13/50\n",
      "1875/1875 [==============================] - 14s 7ms/step - loss: 0.0671 - accuracy: 0.9747\n",
      "Epoch 14/50\n",
      "1875/1875 [==============================] - 14s 7ms/step - loss: 0.0609 - accuracy: 0.9771\n",
      "Epoch 15/50\n",
      "1875/1875 [==============================] - 14s 7ms/step - loss: 0.0540 - accuracy: 0.9799\n",
      "Epoch 16/50\n",
      "1875/1875 [==============================] - 14s 7ms/step - loss: 0.0482 - accuracy: 0.9817\n",
      "Epoch 17/50\n",
      "1875/1875 [==============================] - 14s 7ms/step - loss: 0.0447 - accuracy: 0.9834\n",
      "Epoch 18/50\n",
      "1875/1875 [==============================] - 14s 7ms/step - loss: 0.0420 - accuracy: 0.9845\n",
      "Epoch 19/50\n",
      "1875/1875 [==============================] - 14s 7ms/step - loss: 0.0395 - accuracy: 0.9850\n",
      "Epoch 20/50\n",
      "1875/1875 [==============================] - 14s 7ms/step - loss: 0.0358 - accuracy: 0.9868\n",
      "Epoch 21/50\n",
      "1875/1875 [==============================] - 14s 7ms/step - loss: 0.0314 - accuracy: 0.9884\n",
      "Epoch 22/50\n",
      "1875/1875 [==============================] - 14s 7ms/step - loss: 0.0336 - accuracy: 0.9880\n",
      "Epoch 23/50\n",
      "1875/1875 [==============================] - 14s 7ms/step - loss: 0.0324 - accuracy: 0.9879\n",
      "Epoch 24/50\n",
      "1875/1875 [==============================] - 14s 7ms/step - loss: 0.0301 - accuracy: 0.9892\n",
      "Epoch 25/50\n",
      "1875/1875 [==============================] - 14s 7ms/step - loss: 0.0271 - accuracy: 0.9903\n",
      "Epoch 26/50\n",
      "1875/1875 [==============================] - 14s 7ms/step - loss: 0.0277 - accuracy: 0.9901\n",
      "Epoch 27/50\n",
      "1875/1875 [==============================] - 14s 7ms/step - loss: 0.0244 - accuracy: 0.9913\n",
      "Epoch 28/50\n",
      "1875/1875 [==============================] - 14s 7ms/step - loss: 0.0269 - accuracy: 0.9903\n",
      "Epoch 29/50\n",
      "1875/1875 [==============================] - 14s 7ms/step - loss: 0.0233 - accuracy: 0.9919\n",
      "Epoch 30/50\n",
      "1875/1875 [==============================] - 14s 7ms/step - loss: 0.0244 - accuracy: 0.9919\n",
      "Epoch 31/50\n",
      "1875/1875 [==============================] - 14s 7ms/step - loss: 0.0228 - accuracy: 0.9924\n",
      "Epoch 32/50\n",
      "1875/1875 [==============================] - 14s 7ms/step - loss: 0.0262 - accuracy: 0.9913\n",
      "Epoch 33/50\n",
      "1875/1875 [==============================] - 14s 7ms/step - loss: 0.0209 - accuracy: 0.9927\n",
      "Epoch 34/50\n",
      "1875/1875 [==============================] - 14s 7ms/step - loss: 0.0209 - accuracy: 0.9930\n",
      "Epoch 35/50\n",
      "1875/1875 [==============================] - 14s 7ms/step - loss: 0.0176 - accuracy: 0.9938\n",
      "Epoch 36/50\n",
      "1875/1875 [==============================] - 14s 7ms/step - loss: 0.0250 - accuracy: 0.9915\n",
      "Epoch 37/50\n",
      "1875/1875 [==============================] - 14s 7ms/step - loss: 0.0183 - accuracy: 0.9943\n",
      "Epoch 38/50\n",
      "1875/1875 [==============================] - 14s 7ms/step - loss: 0.0205 - accuracy: 0.9933\n",
      "Epoch 39/50\n",
      "1875/1875 [==============================] - 14s 7ms/step - loss: 0.0190 - accuracy: 0.9940\n",
      "Epoch 40/50\n",
      "1875/1875 [==============================] - 14s 7ms/step - loss: 0.0196 - accuracy: 0.9935\n",
      "Epoch 41/50\n",
      "1875/1875 [==============================] - 14s 7ms/step - loss: 0.0195 - accuracy: 0.9932\n",
      "Epoch 42/50\n",
      "1875/1875 [==============================] - 14s 7ms/step - loss: 0.0222 - accuracy: 0.9926\n",
      "Epoch 43/50\n",
      "1875/1875 [==============================] - 14s 7ms/step - loss: 0.0167 - accuracy: 0.9946\n",
      "Epoch 44/50\n",
      "1875/1875 [==============================] - 14s 7ms/step - loss: 0.0163 - accuracy: 0.9947\n",
      "Epoch 45/50\n",
      "1875/1875 [==============================] - 14s 7ms/step - loss: 0.0210 - accuracy: 0.9933\n",
      "Epoch 46/50\n",
      "1875/1875 [==============================] - 14s 7ms/step - loss: 0.0175 - accuracy: 0.9943\n",
      "Epoch 47/50\n",
      "1875/1875 [==============================] - 14s 7ms/step - loss: 0.0183 - accuracy: 0.9942\n",
      "Epoch 48/50\n",
      "1875/1875 [==============================] - 14s 7ms/step - loss: 0.0183 - accuracy: 0.9939\n",
      "Epoch 49/50\n",
      "1875/1875 [==============================] - 14s 7ms/step - loss: 0.0145 - accuracy: 0.9956\n",
      "Epoch 50/50\n",
      "1875/1875 [==============================] - 14s 7ms/step - loss: 0.0174 - accuracy: 0.9950\n"
     ]
    },
    {
     "data": {
      "text/plain": [
       "<keras.callbacks.History at 0x7feb04f31dc0>"
      ]
     },
     "execution_count": 6,
     "metadata": {},
     "output_type": "execute_result"
    }
   ],
   "source": [
    "model.fit(training_images, training_labels, epochs=50)"
   ]
  },
  {
   "cell_type": "code",
   "execution_count": 9,
   "id": "e66641c4-dfc7-40aa-a9e8-cbc837a6705a",
   "metadata": {
    "tags": []
   },
   "outputs": [
    {
     "name": "stdout",
     "output_type": "stream",
     "text": [
      "313/313 [==============================] - 1s 4ms/step - loss: 0.9901 - accuracy: 0.9062\n"
     ]
    },
    {
     "data": {
      "text/plain": [
       "[0.9900659322738647, 0.9061999917030334]"
      ]
     },
     "execution_count": 9,
     "metadata": {},
     "output_type": "execute_result"
    }
   ],
   "source": [
    "model.evaluate(test_images, test_labesl)"
   ]
  },
  {
   "cell_type": "code",
   "execution_count": 10,
   "id": "1d0a40e7-acb8-4fa3-8f03-76fe62f19392",
   "metadata": {
    "tags": []
   },
   "outputs": [
    {
     "name": "stdout",
     "output_type": "stream",
     "text": [
      "313/313 [==============================] - 1s 3ms/step\n",
      "[[5.3601636e-35 9.4185521e-34 2.5309820e-31 ... 4.8368759e-34\n",
      "  7.2321361e-38 1.0000000e+00]\n",
      " [5.5352818e-32 0.0000000e+00 1.0000000e+00 ... 0.0000000e+00\n",
      "  0.0000000e+00 0.0000000e+00]\n",
      " [0.0000000e+00 1.0000000e+00 0.0000000e+00 ... 0.0000000e+00\n",
      "  0.0000000e+00 0.0000000e+00]\n",
      " ...\n",
      " [0.0000000e+00 0.0000000e+00 0.0000000e+00 ... 0.0000000e+00\n",
      "  1.0000000e+00 0.0000000e+00]\n",
      " [1.5530447e-35 1.0000000e+00 0.0000000e+00 ... 0.0000000e+00\n",
      "  0.0000000e+00 0.0000000e+00]\n",
      " [8.0389644e-24 8.0975677e-31 3.4485073e-23 ... 1.6204290e-11\n",
      "  1.0997819e-15 1.2759351e-22]]\n"
     ]
    }
   ],
   "source": [
    "classifications = model.predict(test_images)\n",
    "print(classifications)"
   ]
  },
  {
   "cell_type": "code",
   "execution_count": 13,
   "id": "65a6a6c0-3ac8-44bc-8c7b-5b314a68dfe9",
   "metadata": {
    "tags": []
   },
   "outputs": [
    {
     "name": "stdout",
     "output_type": "stream",
     "text": [
      "9\n"
     ]
    }
   ],
   "source": [
    "print(test_labesl[0])"
   ]
  },
  {
   "cell_type": "code",
   "execution_count": null,
   "id": "4f928a7a-67f0-4ba7-a861-f63e165d9e47",
   "metadata": {},
   "outputs": [],
   "source": []
  }
 ],
 "metadata": {
  "kernelspec": {
   "display_name": "Python 3 (ipykernel)",
   "language": "python",
   "name": "python3"
  },
  "language_info": {
   "codemirror_mode": {
    "name": "ipython",
    "version": 3
   },
   "file_extension": ".py",
   "mimetype": "text/x-python",
   "name": "python",
   "nbconvert_exporter": "python",
   "pygments_lexer": "ipython3",
   "version": "3.8.10"
  }
 },
 "nbformat": 4,
 "nbformat_minor": 5
}
